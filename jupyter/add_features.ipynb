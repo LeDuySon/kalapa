{
 "cells": [
  {
   "cell_type": "code",
   "execution_count": 1,
   "metadata": {},
   "outputs": [],
   "source": [
    "import pandas as pd\n",
    "import numpy as np\n",
    "from matplotlib import pyplot as plt"
   ]
  },
  {
   "cell_type": "code",
   "execution_count": 2,
   "metadata": {},
   "outputs": [],
   "source": [
    "import sys\n",
    "sys.path.append('../src')\n",
    "from visual_corr import cat_cat, cont_cont, cat_cont, cont_label, cat_label, corr\n",
    "from utils import no_accent_vietnamese"
   ]
  },
  {
   "cell_type": "code",
   "execution_count": 3,
   "metadata": {},
   "outputs": [
    {
     "name": "stderr",
     "output_type": "stream",
     "text": [
      "/home/loitg/miniconda2/envs/creditscore/lib/python3.6/site-packages/IPython/core/interactiveshell.py:3051: DtypeWarning: Columns (51) have mixed types. Specify dtype option on import or set low_memory=False.\n",
      "  interactivity=interactivity, compiler=compiler, result=result)\n",
      "/home/loitg/miniconda2/envs/creditscore/lib/python3.6/site-packages/IPython/core/interactiveshell.py:3051: DtypeWarning: Columns (50) have mixed types. Specify dtype option on import or set low_memory=False.\n",
      "  interactivity=interactivity, compiler=compiler, result=result)\n"
     ]
    }
   ],
   "source": [
    "train = pd.read_csv('../data/train.csv')\n",
    "test = pd.read_csv('../data/test.csv')"
   ]
  },
  {
   "cell_type": "markdown",
   "metadata": {},
   "source": [
    "### INIT"
   ]
  },
  {
   "cell_type": "code",
   "execution_count": 4,
   "metadata": {},
   "outputs": [],
   "source": [
    "import ast\n",
    "\n",
    "ls_train = set()\n",
    "for item in train.FIELD_7:\n",
    "    if isinstance(item, str) and item[0] == '[':\n",
    "        l = ast.literal_eval(item)\n",
    "        ls_train.update(l)\n",
    "        \n",
    "ls_test = set()\n",
    "for item in test.FIELD_7:\n",
    "    if isinstance(item, str) and item[0] == '[':\n",
    "        l = ast.literal_eval(item)\n",
    "        ls_test.update(l)\n",
    "        \n",
    "cols = ls_train.intersection(ls_test)"
   ]
  },
  {
   "cell_type": "markdown",
   "metadata": {},
   "source": [
    "### TRAIN"
   ]
  },
  {
   "cell_type": "code",
   "execution_count": 94,
   "metadata": {},
   "outputs": [],
   "source": [
    "cols = list(cols)\n",
    "newrows = []\n",
    "for item in train.FIELD_7:\n",
    "    if isinstance(item, str) and item[0] == '[':\n",
    "        l = ast.literal_eval(item)\n",
    "        row = []\n",
    "        for col in cols:\n",
    "            count = len([i for i in l if i==col])\n",
    "            row.append(count)\n",
    "        newrow = row[:]\n",
    "        newrow.append(sum(row))\n",
    "        newrow.append(len([r for r in row if r > 0]))\n",
    "        newrows.append(newrow)\n",
    "    else:\n",
    "        newrows.append([0] * (len(cols)+2))"
   ]
  },
  {
   "cell_type": "code",
   "execution_count": 95,
   "metadata": {},
   "outputs": [],
   "source": [
    "cols = list(cols)\n",
    "newrows = []\n",
    "for item in train.FIELD_7:\n",
    "    if isinstance(item, str) and item[0] == '[':\n",
    "        l = ast.literal_eval(item)\n",
    "        row = []\n",
    "        for col in cols:\n",
    "            count = len([i for i in l if i==col])\n",
    "            row.append(count)\n",
    "        newrow = row[:]\n",
    "        newrow.append(sum(row))\n",
    "        newrow.append(len([r for r in row if r > 0]))\n",
    "        newrows.append(newrow)\n",
    "    else:\n",
    "        newrows.append([0] * (len(cols)+2))"
   ]
  },
  {
   "cell_type": "code",
   "execution_count": 96,
   "metadata": {},
   "outputs": [],
   "source": [
    "F7ext.to_csv('./F7ext.csv', index=False)"
   ]
  },
  {
   "cell_type": "markdown",
   "metadata": {},
   "source": [
    "### INIT"
   ]
  },
  {
   "cell_type": "code",
   "execution_count": 8,
   "metadata": {},
   "outputs": [],
   "source": [
    "vungmien= pd.read_csv('../src/vungmien.csv')"
   ]
  },
  {
   "cell_type": "markdown",
   "metadata": {},
   "source": [
    "### TRAIN"
   ]
  },
  {
   "cell_type": "code",
   "execution_count": 76,
   "metadata": {},
   "outputs": [],
   "source": [
    "merged = pd.merge(train, vungmien, how='left', left_on='province', right_on='province')\n",
    "Fprovince_ext = merged[['province','count', 'vung', 'mien', 'label']]"
   ]
  },
  {
   "cell_type": "code",
   "execution_count": 86,
   "metadata": {},
   "outputs": [],
   "source": [
    "Fprovince_ext.to_csv('./Fprovince_ext.csv', index=False)"
   ]
  },
  {
   "cell_type": "markdown",
   "metadata": {},
   "source": [
    "### VALIDATE"
   ]
  },
  {
   "cell_type": "code",
   "execution_count": 5,
   "metadata": {},
   "outputs": [],
   "source": [
    "cols = list(cols)"
   ]
  },
  {
   "cell_type": "code",
   "execution_count": 7,
   "metadata": {},
   "outputs": [],
   "source": [
    "newrows = []\n",
    "for item in test.FIELD_7:\n",
    "    if isinstance(item, str) and item[0] == '[':\n",
    "        l = ast.literal_eval(item)\n",
    "        row = []\n",
    "        for col in cols:\n",
    "            count = len([i for i in l if i==col])\n",
    "            row.append(count)\n",
    "        newrow = row[:]\n",
    "        newrow.append(sum(row))\n",
    "        newrow.append(len([r for r in row if r > 0]))\n",
    "        newrows.append(newrow)\n",
    "    else:\n",
    "        newrows.append([0] * (len(cols)+2))\n",
    "        \n",
    "F7val = pd.concat([pd.DataFrame(newrows, columns=cols+['f7total','f7count'], index=test.index), train.label], axis=1)\n",
    "\n",
    "F7val.to_csv('./F7val.csv', index=False)"
   ]
  },
  {
   "cell_type": "markdown",
   "metadata": {},
   "source": [
    "### VALIDATE"
   ]
  },
  {
   "cell_type": "code",
   "execution_count": 11,
   "metadata": {},
   "outputs": [],
   "source": [
    "merged = pd.merge(test, vungmien, how='left', left_on='province', right_on='province')\n",
    "Fprovince_ext = merged[['province','count', 'vung', 'mien']]\n",
    "Fprovince_ext.to_csv('./Fprovince_val.csv', index=False)"
   ]
  },
  {
   "cell_type": "code",
   "execution_count": null,
   "metadata": {},
   "outputs": [],
   "source": []
  }
 ],
 "metadata": {
  "kernelspec": {
   "display_name": "Python 3",
   "language": "python",
   "name": "python3"
  },
  "language_info": {
   "codemirror_mode": {
    "name": "ipython",
    "version": 3
   },
   "file_extension": ".py",
   "mimetype": "text/x-python",
   "name": "python",
   "nbconvert_exporter": "python",
   "pygments_lexer": "ipython3",
   "version": "3.6.10"
  }
 },
 "nbformat": 4,
 "nbformat_minor": 4
}
