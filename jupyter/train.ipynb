{
 "cells": [
  {
   "cell_type": "code",
   "execution_count": 113,
   "metadata": {},
   "outputs": [],
   "source": [
    "import pandas as pd\n",
    "import numpy as np\n",
    "from matplotlib import pyplot as plt"
   ]
  },
  {
   "cell_type": "code",
   "execution_count": 114,
   "metadata": {},
   "outputs": [],
   "source": [
    "import sys\n",
    "sys.path.append('../src')\n",
    "from visual_corr import cat_cat, cont_cont, cat_cont, cont_label, cat_label, corr, drawRow\n",
    "from utils import no_accent_vietnamese, FeatureFromColumn"
   ]
  },
  {
   "cell_type": "markdown",
   "metadata": {},
   "source": [
    "NOTE:\n",
    "fields have different distribution when in train0(null) and train1, so it's best to split the dataset separately."
   ]
  },
  {
   "cell_type": "code",
   "execution_count": 3,
   "metadata": {},
   "outputs": [],
   "source": [
    "def spanOneHot2dict(col):\n",
    "    cols = []\n",
    "    vc = col.value_counts()\n",
    "    spaned = pd.get_dummies(col, prefix_sep='_', drop_first=(len(vc) < 3))\n",
    "    for k in spaned.columns:\n",
    "        cols.append(spaned[k].rename('%s_%s' % (col.name, k)))\n",
    "    return cols\n",
    "\n",
    "def new_column(data0, f, newname, onehot=False):\n",
    "    col = data0[f.colname].rename(newname)\n",
    "    for repl in f.repls:\n",
    "        if isinstance(repl, dict):\n",
    "            col.replace(repl, inplace=True)\n",
    "        elif callable(repl):\n",
    "            col = col.apply(repl)\n",
    "    # transform\n",
    "    if f.groups:\n",
    "        if isinstance(f.groups, dict) and len(f.groups) > 0:\n",
    "            def tt(x):\n",
    "                for name, g_range in f.groups.items():\n",
    "                    if isinstance(g_range, tuple):\n",
    "                        if (x >= g_range[0]) and (x <= g_range[1]):\n",
    "                            return name\n",
    "                    elif isinstance(g_range, list):\n",
    "                        if x in g_range:\n",
    "                            return name\n",
    "                    elif callable(g_range):\n",
    "                        if g_range(x):\n",
    "                            return name\n",
    "                return x\n",
    "            col = col.apply(tt)\n",
    "    # Normalize\n",
    "    if f.isCat:\n",
    "        if onehot:\n",
    "            cols = spanOneHot2dict(col)\n",
    "            return cols\n",
    "        else:\n",
    "            col = pd.Series(le.fit_transform(col), index=data0.index, name=col.name)\n",
    "    else:\n",
    "        if f.fix_range:\n",
    "            m0 = col.min()\n",
    "            m1 = col.max()\n",
    "            col = col.apply(lambda x:(x - m0)/(m1 - m0)*2 - 1)\n",
    "        else:\n",
    "            m = col.mean()\n",
    "            std = col.std()\n",
    "            col = col.apply(lambda x:((x-m)/std) )\n",
    "    return [col]\n",
    "\n"
   ]
  },
  {
   "cell_type": "code",
   "execution_count": 4,
   "metadata": {},
   "outputs": [
    {
     "name": "stderr",
     "output_type": "stream",
     "text": [
      "/home/loitg/miniconda2/envs/creditscore/lib/python3.6/site-packages/IPython/core/interactiveshell.py:3051: DtypeWarning: Columns (51) have mixed types. Specify dtype option on import or set low_memory=False.\n",
      "  interactivity=interactivity, compiler=compiler, result=result)\n"
     ]
    }
   ],
   "source": [
    "train = pd.read_csv('../data/train.csv')\n",
    "train1 = train[train.isnull().sum(axis=1) <= 40]\n",
    "train0 = train[train.isnull().sum(axis=1) > 40]"
   ]
  },
  {
   "cell_type": "code",
   "execution_count": 5,
   "metadata": {},
   "outputs": [],
   "source": [
    "Fprovince_ext = pd.read_csv('./Fprovince_ext.csv')\n",
    "Fprovince_ext_1 = Fprovince_ext.loc[train1.index]\n",
    "Fprovince_ext_0 = Fprovince_ext.loc[train0.index]\n",
    "\n",
    "\n",
    "F7ext = pd.read_csv('./F7ext.csv')\n",
    "F7ext1 = F7ext.loc[train1.index]\n",
    "F7ext0 = F7ext.loc[train0.index]\n",
    "\n",
    "raw1 = pd.concat([train1.drop(columns=['label']), Fprovince_ext_1.drop(columns=['label', 'province']), F7ext1], axis=1)\n",
    "raw0 = pd.concat([train0.drop(columns=['label']), Fprovince_ext_0.drop(columns=['label', 'province']), F7ext0], axis=1)"
   ]
  },
  {
   "cell_type": "code",
   "execution_count": 6,
   "metadata": {},
   "outputs": [],
   "source": [
    "from features_desc1 import Fprovince_notnull_list, F7ext_notnull_list, main_notnull_list\n",
    "notnull_list = main_notnull_list + Fprovince_notnull_list + F7ext_notnull_list\n",
    "\n",
    "from features_desc0 import Fprovince_null_list, F7ext_null_list, main_null_list\n",
    "null_list = main_null_list + Fprovince_null_list + F7ext_null_list"
   ]
  },
  {
   "cell_type": "code",
   "execution_count": 84,
   "metadata": {},
   "outputs": [
    {
     "name": "stdout",
     "output_type": "stream",
     "text": [
      "0_FIELD_7\n",
      "1_FIELD_5\n"
     ]
    },
    {
     "ename": "TypeError",
     "evalue": "argument must be a string or number",
     "output_type": "error",
     "traceback": [
      "\u001b[0;31m---------------------------------------------------------------------------\u001b[0m",
      "\u001b[0;31mTypeError\u001b[0m                                 Traceback (most recent call last)",
      "\u001b[0;32m~/miniconda2/envs/creditscore/lib/python3.6/site-packages/sklearn/preprocessing/_label.py\u001b[0m in \u001b[0;36m_encode\u001b[0;34m(values, uniques, encode, check_unknown)\u001b[0m\n\u001b[1;32m    111\u001b[0m         \u001b[0;32mtry\u001b[0m\u001b[0;34m:\u001b[0m\u001b[0;34m\u001b[0m\u001b[0;34m\u001b[0m\u001b[0m\n\u001b[0;32m--> 112\u001b[0;31m             \u001b[0mres\u001b[0m \u001b[0;34m=\u001b[0m \u001b[0m_encode_python\u001b[0m\u001b[0;34m(\u001b[0m\u001b[0mvalues\u001b[0m\u001b[0;34m,\u001b[0m \u001b[0muniques\u001b[0m\u001b[0;34m,\u001b[0m \u001b[0mencode\u001b[0m\u001b[0;34m)\u001b[0m\u001b[0;34m\u001b[0m\u001b[0;34m\u001b[0m\u001b[0m\n\u001b[0m\u001b[1;32m    113\u001b[0m         \u001b[0;32mexcept\u001b[0m \u001b[0mTypeError\u001b[0m\u001b[0;34m:\u001b[0m\u001b[0;34m\u001b[0m\u001b[0;34m\u001b[0m\u001b[0m\n",
      "\u001b[0;32m~/miniconda2/envs/creditscore/lib/python3.6/site-packages/sklearn/preprocessing/_label.py\u001b[0m in \u001b[0;36m_encode_python\u001b[0;34m(values, uniques, encode)\u001b[0m\n\u001b[1;32m     59\u001b[0m     \u001b[0;32mif\u001b[0m \u001b[0muniques\u001b[0m \u001b[0;32mis\u001b[0m \u001b[0;32mNone\u001b[0m\u001b[0;34m:\u001b[0m\u001b[0;34m\u001b[0m\u001b[0;34m\u001b[0m\u001b[0m\n\u001b[0;32m---> 60\u001b[0;31m         \u001b[0muniques\u001b[0m \u001b[0;34m=\u001b[0m \u001b[0msorted\u001b[0m\u001b[0;34m(\u001b[0m\u001b[0mset\u001b[0m\u001b[0;34m(\u001b[0m\u001b[0mvalues\u001b[0m\u001b[0;34m)\u001b[0m\u001b[0;34m)\u001b[0m\u001b[0;34m\u001b[0m\u001b[0;34m\u001b[0m\u001b[0m\n\u001b[0m\u001b[1;32m     61\u001b[0m         \u001b[0muniques\u001b[0m \u001b[0;34m=\u001b[0m \u001b[0mnp\u001b[0m\u001b[0;34m.\u001b[0m\u001b[0marray\u001b[0m\u001b[0;34m(\u001b[0m\u001b[0muniques\u001b[0m\u001b[0;34m,\u001b[0m \u001b[0mdtype\u001b[0m\u001b[0;34m=\u001b[0m\u001b[0mvalues\u001b[0m\u001b[0;34m.\u001b[0m\u001b[0mdtype\u001b[0m\u001b[0;34m)\u001b[0m\u001b[0;34m\u001b[0m\u001b[0;34m\u001b[0m\u001b[0m\n",
      "\u001b[0;31mTypeError\u001b[0m: '<' not supported between instances of 'str' and 'float'",
      "\nDuring handling of the above exception, another exception occurred:\n",
      "\u001b[0;31mTypeError\u001b[0m                                 Traceback (most recent call last)",
      "\u001b[0;32m<ipython-input-84-ca9ea7d20d08>\u001b[0m in \u001b[0;36m<module>\u001b[0;34m\u001b[0m\n\u001b[1;32m     21\u001b[0m \u001b[0;34m\u001b[0m\u001b[0m\n\u001b[1;32m     22\u001b[0m \u001b[0mselected_list\u001b[0m \u001b[0;34m=\u001b[0m \u001b[0;34m[\u001b[0m\u001b[0mf\u001b[0m \u001b[0;32mfor\u001b[0m \u001b[0mf\u001b[0m \u001b[0;32min\u001b[0m \u001b[0mnull_list\u001b[0m \u001b[0;32mif\u001b[0m \u001b[0;32mTrue\u001b[0m\u001b[0;34m]\u001b[0m\u001b[0;34m\u001b[0m\u001b[0;34m\u001b[0m\u001b[0m\n\u001b[0;32m---> 23\u001b[0;31m \u001b[0mcleanedds\u001b[0m \u001b[0;34m=\u001b[0m \u001b[0mfeatures2Dataset\u001b[0m\u001b[0;34m(\u001b[0m\u001b[0mraw0\u001b[0m\u001b[0;34m,\u001b[0m \u001b[0;34m'label'\u001b[0m\u001b[0;34m,\u001b[0m \u001b[0mselected_list\u001b[0m\u001b[0;34m,\u001b[0m \u001b[0mallSingleForNN\u001b[0m\u001b[0;34m=\u001b[0m\u001b[0;32mFalse\u001b[0m\u001b[0;34m)\u001b[0m\u001b[0;34m\u001b[0m\u001b[0;34m\u001b[0m\u001b[0m\n\u001b[0m",
      "\u001b[0;32m<ipython-input-84-ca9ea7d20d08>\u001b[0m in \u001b[0;36mfeatures2Dataset\u001b[0;34m(data, lblname, features_desc, allSingleForNN)\u001b[0m\n\u001b[1;32m     14\u001b[0m         \u001b[0mnewname\u001b[0m \u001b[0;34m=\u001b[0m \u001b[0;34m'%d_%s'\u001b[0m \u001b[0;34m%\u001b[0m \u001b[0;34m(\u001b[0m\u001b[0mi\u001b[0m\u001b[0;34m,\u001b[0m \u001b[0mf\u001b[0m\u001b[0;34m.\u001b[0m\u001b[0mcolname\u001b[0m\u001b[0;34m)\u001b[0m\u001b[0;34m\u001b[0m\u001b[0;34m\u001b[0m\u001b[0m\n\u001b[1;32m     15\u001b[0m         \u001b[0mprint\u001b[0m\u001b[0;34m(\u001b[0m\u001b[0mnewname\u001b[0m\u001b[0;34m)\u001b[0m\u001b[0;34m\u001b[0m\u001b[0;34m\u001b[0m\u001b[0m\n\u001b[0;32m---> 16\u001b[0;31m         \u001b[0mnewcols\u001b[0m \u001b[0;34m=\u001b[0m \u001b[0mnew_column\u001b[0m\u001b[0;34m(\u001b[0m\u001b[0mdata\u001b[0m\u001b[0;34m,\u001b[0m \u001b[0mf\u001b[0m\u001b[0;34m,\u001b[0m \u001b[0mnewname\u001b[0m\u001b[0;34m,\u001b[0m \u001b[0monehot\u001b[0m\u001b[0;34m=\u001b[0m\u001b[0mallSingleForNN\u001b[0m\u001b[0;34m)\u001b[0m\u001b[0;34m\u001b[0m\u001b[0;34m\u001b[0m\u001b[0m\n\u001b[0m\u001b[1;32m     17\u001b[0m         \u001b[0mcols\u001b[0m \u001b[0;34m+=\u001b[0m \u001b[0mnewcols\u001b[0m\u001b[0;34m\u001b[0m\u001b[0;34m\u001b[0m\u001b[0m\n\u001b[1;32m     18\u001b[0m \u001b[0;34m\u001b[0m\u001b[0m\n",
      "\u001b[0;32m<ipython-input-3-6dff8dbb3970>\u001b[0m in \u001b[0;36mnew_column\u001b[0;34m(data0, f, newname, onehot)\u001b[0m\n\u001b[1;32m     36\u001b[0m             \u001b[0;32mreturn\u001b[0m \u001b[0mcols\u001b[0m\u001b[0;34m\u001b[0m\u001b[0;34m\u001b[0m\u001b[0m\n\u001b[1;32m     37\u001b[0m         \u001b[0;32melse\u001b[0m\u001b[0;34m:\u001b[0m\u001b[0;34m\u001b[0m\u001b[0;34m\u001b[0m\u001b[0m\n\u001b[0;32m---> 38\u001b[0;31m             \u001b[0mcol\u001b[0m \u001b[0;34m=\u001b[0m \u001b[0mpd\u001b[0m\u001b[0;34m.\u001b[0m\u001b[0mSeries\u001b[0m\u001b[0;34m(\u001b[0m\u001b[0mle\u001b[0m\u001b[0;34m.\u001b[0m\u001b[0mfit_transform\u001b[0m\u001b[0;34m(\u001b[0m\u001b[0mcol\u001b[0m\u001b[0;34m)\u001b[0m\u001b[0;34m,\u001b[0m \u001b[0mindex\u001b[0m\u001b[0;34m=\u001b[0m\u001b[0mdata0\u001b[0m\u001b[0;34m.\u001b[0m\u001b[0mindex\u001b[0m\u001b[0;34m,\u001b[0m \u001b[0mname\u001b[0m\u001b[0;34m=\u001b[0m\u001b[0mcol\u001b[0m\u001b[0;34m.\u001b[0m\u001b[0mname\u001b[0m\u001b[0;34m)\u001b[0m\u001b[0;34m\u001b[0m\u001b[0;34m\u001b[0m\u001b[0m\n\u001b[0m\u001b[1;32m     39\u001b[0m     \u001b[0;32melse\u001b[0m\u001b[0;34m:\u001b[0m\u001b[0;34m\u001b[0m\u001b[0;34m\u001b[0m\u001b[0m\n\u001b[1;32m     40\u001b[0m         \u001b[0;32mif\u001b[0m \u001b[0mf\u001b[0m\u001b[0;34m.\u001b[0m\u001b[0mfix_range\u001b[0m\u001b[0;34m:\u001b[0m\u001b[0;34m\u001b[0m\u001b[0;34m\u001b[0m\u001b[0m\n",
      "\u001b[0;32m~/miniconda2/envs/creditscore/lib/python3.6/site-packages/sklearn/preprocessing/_label.py\u001b[0m in \u001b[0;36mfit_transform\u001b[0;34m(self, y)\u001b[0m\n\u001b[1;32m    250\u001b[0m         \"\"\"\n\u001b[1;32m    251\u001b[0m         \u001b[0my\u001b[0m \u001b[0;34m=\u001b[0m \u001b[0mcolumn_or_1d\u001b[0m\u001b[0;34m(\u001b[0m\u001b[0my\u001b[0m\u001b[0;34m,\u001b[0m \u001b[0mwarn\u001b[0m\u001b[0;34m=\u001b[0m\u001b[0;32mTrue\u001b[0m\u001b[0;34m)\u001b[0m\u001b[0;34m\u001b[0m\u001b[0;34m\u001b[0m\u001b[0m\n\u001b[0;32m--> 252\u001b[0;31m         \u001b[0mself\u001b[0m\u001b[0;34m.\u001b[0m\u001b[0mclasses_\u001b[0m\u001b[0;34m,\u001b[0m \u001b[0my\u001b[0m \u001b[0;34m=\u001b[0m \u001b[0m_encode\u001b[0m\u001b[0;34m(\u001b[0m\u001b[0my\u001b[0m\u001b[0;34m,\u001b[0m \u001b[0mencode\u001b[0m\u001b[0;34m=\u001b[0m\u001b[0;32mTrue\u001b[0m\u001b[0;34m)\u001b[0m\u001b[0;34m\u001b[0m\u001b[0;34m\u001b[0m\u001b[0m\n\u001b[0m\u001b[1;32m    253\u001b[0m         \u001b[0;32mreturn\u001b[0m \u001b[0my\u001b[0m\u001b[0;34m\u001b[0m\u001b[0;34m\u001b[0m\u001b[0m\n\u001b[1;32m    254\u001b[0m \u001b[0;34m\u001b[0m\u001b[0m\n",
      "\u001b[0;32m~/miniconda2/envs/creditscore/lib/python3.6/site-packages/sklearn/preprocessing/_label.py\u001b[0m in \u001b[0;36m_encode\u001b[0;34m(values, uniques, encode, check_unknown)\u001b[0m\n\u001b[1;32m    112\u001b[0m             \u001b[0mres\u001b[0m \u001b[0;34m=\u001b[0m \u001b[0m_encode_python\u001b[0m\u001b[0;34m(\u001b[0m\u001b[0mvalues\u001b[0m\u001b[0;34m,\u001b[0m \u001b[0muniques\u001b[0m\u001b[0;34m,\u001b[0m \u001b[0mencode\u001b[0m\u001b[0;34m)\u001b[0m\u001b[0;34m\u001b[0m\u001b[0;34m\u001b[0m\u001b[0m\n\u001b[1;32m    113\u001b[0m         \u001b[0;32mexcept\u001b[0m \u001b[0mTypeError\u001b[0m\u001b[0;34m:\u001b[0m\u001b[0;34m\u001b[0m\u001b[0;34m\u001b[0m\u001b[0m\n\u001b[0;32m--> 114\u001b[0;31m             \u001b[0;32mraise\u001b[0m \u001b[0mTypeError\u001b[0m\u001b[0;34m(\u001b[0m\u001b[0;34m\"argument must be a string or number\"\u001b[0m\u001b[0;34m)\u001b[0m\u001b[0;34m\u001b[0m\u001b[0;34m\u001b[0m\u001b[0m\n\u001b[0m\u001b[1;32m    115\u001b[0m         \u001b[0;32mreturn\u001b[0m \u001b[0mres\u001b[0m\u001b[0;34m\u001b[0m\u001b[0;34m\u001b[0m\u001b[0m\n\u001b[1;32m    116\u001b[0m     \u001b[0;32melse\u001b[0m\u001b[0;34m:\u001b[0m\u001b[0;34m\u001b[0m\u001b[0;34m\u001b[0m\u001b[0m\n",
      "\u001b[0;31mTypeError\u001b[0m: argument must be a string or number"
     ]
    }
   ],
   "source": [
    "def calcWeight(col):\n",
    "    a = col.value_counts()\n",
    "    n = len(col)/len(a)\n",
    "    b = (n/a).rename('weight')\n",
    "    c = pd.merge(col, b, how='left', left_on='label', right_index=True)\n",
    "    return c['weight']\n",
    "\n",
    "from sklearn import preprocessing\n",
    "le = preprocessing.LabelEncoder()\n",
    "\n",
    "def features2Dataset(data, lblname, features_desc, allSingleForNN=False):\n",
    "    cols = []\n",
    "    for i, f in enumerate(features_desc):\n",
    "        newname = '%d_%s' % (i, f.colname)\n",
    "        print(newname)\n",
    "        newcols = new_column(data, f, newname, onehot=allSingleForNN)\n",
    "        cols += newcols\n",
    "            \n",
    "    cols.append(data[lblname])\n",
    "    return pd.DataFrame({col.name:col for col in cols})\n",
    "\n",
    "selected_list = [f for f in null_list if True]\n",
    "cleanedds = features2Dataset(raw0, 'label', selected_list, allSingleForNN=False)"
   ]
  },
  {
   "cell_type": "code",
   "execution_count": 86,
   "metadata": {},
   "outputs": [
    {
     "data": {
      "text/plain": [
       "0.0     7595\n",
       "2.0      519\n",
       "NaN      463\n",
       "3.0      362\n",
       "4.0      282\n",
       "1.0      215\n",
       "5.0      130\n",
       "6.0       57\n",
       "7.0       29\n",
       "8.0       17\n",
       "9.0        5\n",
       "11.0       3\n",
       "10.0       1\n",
       "Name: FIELD_5, dtype: int64"
      ]
     },
     "execution_count": 86,
     "metadata": {},
     "output_type": "execute_result"
    }
   ],
   "source": [
    "raw0.FIELD_5.value_counts(dropna=False)"
   ]
  },
  {
   "cell_type": "code",
   "execution_count": 79,
   "metadata": {},
   "outputs": [],
   "source": [
    "from sklearn.utils import shuffle\n",
    "\n",
    "def overSampling(data, label, ratio_total_after=1.0):\n",
    "    vc = data[label].value_counts()\n",
    "    target_n = vc.max()\n",
    "    target_n = int(ratio_total_after * target_n)\n",
    "    oversampled = []\n",
    "    for lbl, count in vc.items():\n",
    "        subset = data[data[label] == lbl]\n",
    "        repeated_m = target_n//len(subset)\n",
    "        oversampled += [subset]*repeated_m\n",
    "        mod_m = target_n%len(subset)\n",
    "        oversampled.append(subset.sample(mod_m, replace=False))\n",
    "    oversampled = pd.concat(oversampled, axis=0)\n",
    "    oversampled = shuffle(oversampled)\n",
    "    oversampled.index = list(range(len(oversampled)))\n",
    "    return oversampled"
   ]
  },
  {
   "cell_type": "code",
   "execution_count": 110,
   "metadata": {},
   "outputs": [],
   "source": [
    "from sklearn.model_selection import StratifiedKFold\n",
    "\n",
    "def dataset2Folds(data, label, kfold=10, seed=None): # leave one out ?\n",
    "    skf = StratifiedKFold(n_splits=kfold, random_state=seed, shuffle=True)\n",
    "    other_columns = [c for c in data.columns if c != label]\n",
    "    folds = skf.split(data[other_columns], data[label])\n",
    "    return list(folds)\n",
    "\n",
    "folds = dataset2Folds(cleanedds, 'label', kfold=8, seed=3)"
   ]
  },
  {
   "cell_type": "code",
   "execution_count": 111,
   "metadata": {},
   "outputs": [
    {
     "name": "stdout",
     "output_type": "stream",
     "text": [
      "0\n",
      "1\n",
      "2\n",
      "3\n",
      "4\n",
      "5\n",
      "6\n",
      "7\n"
     ]
    }
   ],
   "source": [
    "from sklearn.metrics import roc_curve, auc\n",
    "from xgboost import XGBClassifier\n",
    "\n",
    "other_columns = [c for c in cleanedds.columns if c != 'label']\n",
    "predicted_labels = []\n",
    "model = None\n",
    "for i in range(len(folds)):\n",
    "    print(i)\n",
    "    model = XGBClassifier(learning_rate = 0.05, n_estimators=50, max_depth=4, verbosity=1)\n",
    "\n",
    "    # from sklearn.ensemble import GradientBoostingClassifier\n",
    "    # model = GradientBoostingClassifier(n_estimators=50, learning_ratea=0.05, max_depth=4, random_state=0)\n",
    "\n",
    "#     from sklearn.neural_network import MLPClassifier\n",
    "#     model = MLPClassifier(hidden_layer_sizes=(30,8), max_iter=21, activation = 'relu',solver='adam',random_state=3)\n",
    "\n",
    "    train_idx, test_idx = folds[i]\n",
    "    train_ds = cleanedds.iloc[train_idx]\n",
    "    #train_ds = overSampling(train_ds, 'label')\n",
    "    #train_weight = calcWeight(train_ds['label'])\n",
    "    train_weight = (train_ds['label']+0.009)\n",
    "    model.fit(train_ds[other_columns], train_ds['label'], sample_weight=train_weight)\n",
    "\n",
    "    test_ds = cleanedds.iloc[test_idx]\n",
    "    predicted_label = model.predict_proba(test_ds[other_columns])\n",
    "    predicted_labels.append(pd.DataFrame(index=test_ds.index, data=predicted_label, columns=[0,1]))\n",
    "    \n",
    "    \n",
    "predicted = pd.concat(predicted_labels).sort_index()\n",
    "\n"
   ]
  },
  {
   "cell_type": "code",
   "execution_count": 112,
   "metadata": {},
   "outputs": [
    {
     "name": "stdout",
     "output_type": "stream",
     "text": [
      "ROC: 0.625250\n",
      "Gini: 0.250500\n"
     ]
    },
    {
     "data": {
      "image/png": "[encoded data removed]",
      "text/plain": [
       "<Figure size 432x288 with 1 Axes>"
      ]
     },
     "metadata": {
      "needs_background": "light"
     },
     "output_type": "display_data"
    }
   ],
   "source": [
    "from matplotlib import pyplot as plt\n",
    "\n",
    "def auc_plot(ytrue, ypredicted):\n",
    "    fpr, tpr, _ = roc_curve(ytrue, ypredicted, pos_label=1)\n",
    "    roc_auc = auc(fpr, tpr)\n",
    "    print('ROC: %f' % roc_auc)\n",
    "    gini_score = 2*roc_auc - 1\n",
    "    print('Gini: %f' % gini_score)\n",
    "    plt.figure()\n",
    "    lw = 2\n",
    "    plt.plot(fpr, tpr, color='darkorange',\n",
    "             lw=lw, label='ROC curve (area = %0.2f)' % roc_auc)\n",
    "    plt.plot([0, 1], [0, 1], color='navy', lw=lw, linestyle='--')\n",
    "    plt.xlim([0.0, 1.0])\n",
    "    plt.ylim([0.0, 1.05])\n",
    "    plt.xlabel('False Positive Rate')\n",
    "    plt.ylabel('True Positive Rate')\n",
    "    plt.title('Receiver operating characteristic example')\n",
    "    plt.legend(loc=\"lower right\")\n",
    "    plt.show()\n",
    "    \n",
    "auc_plot(cleanedds['label'], predicted[1])"
   ]
  },
  {
   "cell_type": "code",
   "execution_count": 78,
   "metadata": {},
   "outputs": [
    {
     "data": {
      "text/plain": [
       "0.23336294842620298"
      ]
     },
     "execution_count": 78,
     "metadata": {},
     "output_type": "execute_result"
    }
   ],
   "source": [
    "test_weight = calcWeight(cleanedds['label'])\n",
    "fpr, tpr, _ = roc_curve(cleanedds['label'], predicted[1], pos_label=1, sample_weight=test_weight)\n",
    "roc_auc = auc(fpr, tpr)\n",
    "gini_score = 2*roc_auc - 1\n",
    "gini_score"
   ]
  },
  {
   "cell_type": "code",
   "execution_count": 16,
   "metadata": {},
   "outputs": [],
   "source": [
    "rsview = pd.merge(cleanedds['label'], predicted, left_index=True, right_index=True)"
   ]
  },
  {
   "cell_type": "code",
   "execution_count": 30,
   "metadata": {},
   "outputs": [
    {
     "data": {
      "text/html": [
       "<div>\n",
       "<style scoped>\n",
       "    .dataframe tbody tr th:only-of-type {\n",
       "        vertical-align: middle;\n",
       "    }\n",
       "\n",
       "    .dataframe tbody tr th {\n",
       "        vertical-align: top;\n",
       "    }\n",
       "\n",
       "    .dataframe thead th {\n",
       "        text-align: right;\n",
       "    }\n",
       "</style>\n",
       "<table border=\"1\" class=\"dataframe\">\n",
       "  <thead>\n",
       "    <tr style=\"text-align: right;\">\n",
       "      <th></th>\n",
       "      <th>label</th>\n",
       "      <th>0</th>\n",
       "      <th>1</th>\n",
       "    </tr>\n",
       "  </thead>\n",
       "  <tbody>\n",
       "    <tr>\n",
       "      <th>0</th>\n",
       "      <td>1</td>\n",
       "      <td>0.057027</td>\n",
       "      <td>9.429731e-01</td>\n",
       "    </tr>\n",
       "    <tr>\n",
       "      <th>1</th>\n",
       "      <td>0</td>\n",
       "      <td>1.000000</td>\n",
       "      <td>1.939541e-09</td>\n",
       "    </tr>\n",
       "    <tr>\n",
       "      <th>2</th>\n",
       "      <td>1</td>\n",
       "      <td>0.015444</td>\n",
       "      <td>9.845562e-01</td>\n",
       "    </tr>\n",
       "    <tr>\n",
       "      <th>3</th>\n",
       "      <td>1</td>\n",
       "      <td>0.003002</td>\n",
       "      <td>9.969983e-01</td>\n",
       "    </tr>\n",
       "    <tr>\n",
       "      <th>4</th>\n",
       "      <td>0</td>\n",
       "      <td>1.000000</td>\n",
       "      <td>1.399469e-09</td>\n",
       "    </tr>\n",
       "    <tr>\n",
       "      <th>...</th>\n",
       "      <td>...</td>\n",
       "      <td>...</td>\n",
       "      <td>...</td>\n",
       "    </tr>\n",
       "    <tr>\n",
       "      <th>40071</th>\n",
       "      <td>0</td>\n",
       "      <td>0.998690</td>\n",
       "      <td>1.309607e-03</td>\n",
       "    </tr>\n",
       "    <tr>\n",
       "      <th>40072</th>\n",
       "      <td>0</td>\n",
       "      <td>1.000000</td>\n",
       "      <td>6.618199e-41</td>\n",
       "    </tr>\n",
       "    <tr>\n",
       "      <th>40073</th>\n",
       "      <td>1</td>\n",
       "      <td>0.026521</td>\n",
       "      <td>9.734795e-01</td>\n",
       "    </tr>\n",
       "    <tr>\n",
       "      <th>40074</th>\n",
       "      <td>0</td>\n",
       "      <td>0.005663</td>\n",
       "      <td>9.943373e-01</td>\n",
       "    </tr>\n",
       "    <tr>\n",
       "      <th>40075</th>\n",
       "      <td>0</td>\n",
       "      <td>0.959340</td>\n",
       "      <td>4.065970e-02</td>\n",
       "    </tr>\n",
       "  </tbody>\n",
       "</table>\n",
       "<p>40076 rows × 3 columns</p>\n",
       "</div>"
      ],
      "text/plain": [
       "       label         0             1\n",
       "0          1  0.057027  9.429731e-01\n",
       "1          0  1.000000  1.939541e-09\n",
       "2          1  0.015444  9.845562e-01\n",
       "3          1  0.003002  9.969983e-01\n",
       "4          0  1.000000  1.399469e-09\n",
       "...      ...       ...           ...\n",
       "40071      0  0.998690  1.309607e-03\n",
       "40072      0  1.000000  6.618199e-41\n",
       "40073      1  0.026521  9.734795e-01\n",
       "40074      0  0.005663  9.943373e-01\n",
       "40075      0  0.959340  4.065970e-02\n",
       "\n",
       "[40076 rows x 3 columns]"
      ]
     },
     "execution_count": 30,
     "metadata": {},
     "output_type": "execute_result"
    }
   ],
   "source": [
    "rsview"
   ]
  },
  {
   "cell_type": "code",
   "execution_count": 26,
   "metadata": {},
   "outputs": [
    {
     "data": {
      "text/html": [
       "<div>\n",
       "<style scoped>\n",
       "    .dataframe tbody tr th:only-of-type {\n",
       "        vertical-align: middle;\n",
       "    }\n",
       "\n",
       "    .dataframe tbody tr th {\n",
       "        vertical-align: top;\n",
       "    }\n",
       "\n",
       "    .dataframe thead th {\n",
       "        text-align: right;\n",
       "    }\n",
       "</style>\n",
       "<table border=\"1\" class=\"dataframe\">\n",
       "  <thead>\n",
       "    <tr style=\"text-align: right;\">\n",
       "      <th></th>\n",
       "      <th>label</th>\n",
       "      <th>0</th>\n",
       "      <th>1</th>\n",
       "    </tr>\n",
       "  </thead>\n",
       "  <tbody>\n",
       "    <tr>\n",
       "      <th>1</th>\n",
       "      <td>0</td>\n",
       "      <td>1.000000</td>\n",
       "      <td>1.939541e-09</td>\n",
       "    </tr>\n",
       "    <tr>\n",
       "      <th>4</th>\n",
       "      <td>0</td>\n",
       "      <td>1.000000</td>\n",
       "      <td>1.399469e-09</td>\n",
       "    </tr>\n",
       "    <tr>\n",
       "      <th>7</th>\n",
       "      <td>0</td>\n",
       "      <td>1.000000</td>\n",
       "      <td>1.708045e-32</td>\n",
       "    </tr>\n",
       "    <tr>\n",
       "      <th>8</th>\n",
       "      <td>0</td>\n",
       "      <td>0.623914</td>\n",
       "      <td>3.760856e-01</td>\n",
       "    </tr>\n",
       "    <tr>\n",
       "      <th>9</th>\n",
       "      <td>0</td>\n",
       "      <td>1.000000</td>\n",
       "      <td>2.072553e-07</td>\n",
       "    </tr>\n",
       "    <tr>\n",
       "      <th>...</th>\n",
       "      <td>...</td>\n",
       "      <td>...</td>\n",
       "      <td>...</td>\n",
       "    </tr>\n",
       "    <tr>\n",
       "      <th>40070</th>\n",
       "      <td>0</td>\n",
       "      <td>1.000000</td>\n",
       "      <td>3.264268e-32</td>\n",
       "    </tr>\n",
       "    <tr>\n",
       "      <th>40071</th>\n",
       "      <td>0</td>\n",
       "      <td>0.998690</td>\n",
       "      <td>1.309607e-03</td>\n",
       "    </tr>\n",
       "    <tr>\n",
       "      <th>40072</th>\n",
       "      <td>0</td>\n",
       "      <td>1.000000</td>\n",
       "      <td>6.618199e-41</td>\n",
       "    </tr>\n",
       "    <tr>\n",
       "      <th>40074</th>\n",
       "      <td>0</td>\n",
       "      <td>0.005663</td>\n",
       "      <td>9.943373e-01</td>\n",
       "    </tr>\n",
       "    <tr>\n",
       "      <th>40075</th>\n",
       "      <td>0</td>\n",
       "      <td>0.959340</td>\n",
       "      <td>4.065970e-02</td>\n",
       "    </tr>\n",
       "  </tbody>\n",
       "</table>\n",
       "<p>20038 rows × 3 columns</p>\n",
       "</div>"
      ],
      "text/plain": [
       "       label         0             1\n",
       "1          0  1.000000  1.939541e-09\n",
       "4          0  1.000000  1.399469e-09\n",
       "7          0  1.000000  1.708045e-32\n",
       "8          0  0.623914  3.760856e-01\n",
       "9          0  1.000000  2.072553e-07\n",
       "...      ...       ...           ...\n",
       "40070      0  1.000000  3.264268e-32\n",
       "40071      0  0.998690  1.309607e-03\n",
       "40072      0  1.000000  6.618199e-41\n",
       "40074      0  0.005663  9.943373e-01\n",
       "40075      0  0.959340  4.065970e-02\n",
       "\n",
       "[20038 rows x 3 columns]"
      ]
     },
     "execution_count": 26,
     "metadata": {},
     "output_type": "execute_result"
    }
   ],
   "source": [
    "rsview[rsview.label==0]"
   ]
  },
  {
   "cell_type": "code",
   "execution_count": 81,
   "metadata": {},
   "outputs": [
    {
     "data": {
      "image/png": "[encoded data removed]",
      "text/plain": [
       "<Figure size 432x288 with 1 Axes>"
      ]
     },
     "metadata": {
      "needs_background": "light"
     },
     "output_type": "display_data"
    }
   ],
   "source": [
    "plt.figure()\n",
    "lw = 2\n",
    "plt.plot(fpr, tpr, color='darkorange',\n",
    "         lw=lw, label='ROC curve (area = %0.2f)' % roc_auc)\n",
    "plt.plot([0, 1], [0, 1], color='navy', lw=lw, linestyle='--')\n",
    "plt.xlim([0.0, 1.0])\n",
    "plt.ylim([0.0, 1.05])\n",
    "plt.xlabel('False Positive Rate')\n",
    "plt.ylabel('True Positive Rate')\n",
    "plt.title('Receiver operating characteristic example')\n",
    "plt.legend(loc=\"lower right\")\n",
    "plt.show()"
   ]
  },
  {
   "cell_type": "code",
   "execution_count": 236,
   "metadata": {},
   "outputs": [
    {
     "data": {
      "text/plain": [
       "<matplotlib.axes._subplots.AxesSubplot at 0x7fbcdc0236d8>"
      ]
     },
     "execution_count": 236,
     "metadata": {},
     "output_type": "execute_result"
    },
    {
     "data": {
      "image/png": "[encoded data removed]",
      "text/plain": [
       "<Figure size 432x288 with 1 Axes>"
      ]
     },
     "metadata": {
      "needs_background": "light"
     },
     "output_type": "display_data"
    }
   ],
   "source": [
    "from xgboost import plot_importance\n",
    "plot_importance(model)"
   ]
  },
  {
   "cell_type": "code",
   "execution_count": null,
   "metadata": {},
   "outputs": [],
   "source": [
    "validate = pd.read_csv('../data/test.csv')\n",
    "validate"
   ]
  }
 ],
 "metadata": {
  "kernelspec": {
   "display_name": "Python 3",
   "language": "python",
   "name": "python3"
  },
  "language_info": {
   "codemirror_mode": {
    "name": "ipython",
    "version": 3
   },
   "file_extension": ".py",
   "mimetype": "text/x-python",
   "name": "python",
   "nbconvert_exporter": "python",
   "pygments_lexer": "ipython3",
   "version": "3.6.10"
  }
 },
 "nbformat": 4,
 "nbformat_minor": 4
}
